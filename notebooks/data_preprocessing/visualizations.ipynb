{
 "cells": [
  {
   "cell_type": "code",
   "execution_count": 1,
   "id": "4618e047-a728-4b07-a877-c16bb219f637",
   "metadata": {},
   "outputs": [],
   "source": [
    "import os\n",
    "import glob\n",
    "import pickle\n",
    "\n",
    "import numpy  as np\n",
    "import pandas as pd\n",
    "import matplotlib.pyplot as plt"
   ]
  },
  {
   "cell_type": "code",
   "execution_count": 2,
   "id": "fce09d8b-bb75-4bee-997e-74620af2a575",
   "metadata": {},
   "outputs": [],
   "source": [
    "cores = '14'\n",
    "\n",
    "BASE_DIR     = f\"../../data/MAR2_al/MAR2_prbs_random/{cores}\"   # point this at the “14” folder\n",
    "IDLE_POWER   = 2.51                                  # watts, per core\n",
    "ASSUMED_PMAX = 2.83                                 # watts, per core at max‐freq\n",
    "DATA_DIR     = f\"../../results/{cores}/\""
   ]
  },
  {
   "cell_type": "code",
   "execution_count": 3,
   "id": "8231b31b-717d-4f92-8874-1c7a800c6964",
   "metadata": {},
   "outputs": [],
   "source": [
    "def load_round_pickle(path):\n",
    "    with open(path, \"rb\") as f:\n",
    "        return pickle.load(f)\n",
    "\n",
    "def compute_power_proxy(pkl):\n",
    "    \"\"\"\n",
    "    Use the built-in freq_aperf_mperf_core ratio as utilization.\n",
    "    P_core = idle + (Pmax - idle) * util\n",
    "    \"\"\"\n",
    "    util = pkl[\"freq_aperf_mperf_core\"].astype(float)\n",
    "    return IDLE_POWER + (ASSUMED_PMAX - IDLE_POWER) * util\n",
    "\n",
    "def ensure_timedelta_index(df):\n",
    "    \"\"\"\n",
    "    If the index isn't already a DatetimeIndex or TimedeltaIndex,\n",
    "    assume it's numeric seconds and convert to TimedeltaIndex.\n",
    "    \"\"\"\n",
    "    idx = df.index\n",
    "    if not isinstance(idx, (pd.DatetimeIndex, pd.TimedeltaIndex)):\n",
    "        df = df.copy()\n",
    "        df.index = pd.to_timedelta(idx.astype(float), unit=\"s\")\n",
    "    return df\n",
    "\n",
    "def resample_df(df, freq=\"500ms\"):\n",
    "    \"\"\"\n",
    "    Resample to uniform freq (500 ms), taking the mean and interpolating.\n",
    "    \"\"\"\n",
    "    df = ensure_timedelta_index(df)\n",
    "    return df.resample(freq).mean().interpolate()\n",
    "\n",
    "def process_round(pkl_path):\n",
    "    pkl   = load_round_pickle(pkl_path)\n",
    "    temp  = pkl[\"temp_core\"]                   # timestamp × cores\n",
    "    power = compute_power_proxy(pkl)           # same shape\n",
    "\n",
    "    # resample\n",
    "    t_rs = resample_df(temp)\n",
    "    p_rs = resample_df(power)\n",
    "\n",
    "    # rename for clarity\n",
    "    t_rs.columns = [f\"T_core_{c}\" for c in t_rs.columns]\n",
    "    p_rs.columns = [f\"P_core_{c}\" for c in p_rs.columns]\n",
    "\n",
    "    return pd.concat([p_rs, t_rs], axis=1)"
   ]
  },
  {
   "cell_type": "code",
   "execution_count": 4,
   "id": "60eaac91-5454-4abc-8e1b-129132b208fe",
   "metadata": {
    "scrolled": true
   },
   "outputs": [
    {
     "data": {
      "text/html": [
       "<div>\n",
       "<style scoped>\n",
       "    .dataframe tbody tr th:only-of-type {\n",
       "        vertical-align: middle;\n",
       "    }\n",
       "\n",
       "    .dataframe tbody tr th {\n",
       "        vertical-align: top;\n",
       "    }\n",
       "\n",
       "    .dataframe thead th {\n",
       "        text-align: right;\n",
       "    }\n",
       "</style>\n",
       "<table border=\"1\" class=\"dataframe\">\n",
       "  <thead>\n",
       "    <tr style=\"text-align: right;\">\n",
       "      <th></th>\n",
       "      <th>mean_power</th>\n",
       "      <th>max_power</th>\n",
       "      <th>mean_temp</th>\n",
       "      <th>max_temp</th>\n",
       "    </tr>\n",
       "    <tr>\n",
       "      <th>round</th>\n",
       "      <th></th>\n",
       "      <th></th>\n",
       "      <th></th>\n",
       "      <th></th>\n",
       "    </tr>\n",
       "  </thead>\n",
       "  <tbody>\n",
       "    <tr>\n",
       "      <th>round0</th>\n",
       "      <td>880.24</td>\n",
       "      <td>962.51</td>\n",
       "      <td>64.33</td>\n",
       "      <td>83.0</td>\n",
       "    </tr>\n",
       "    <tr>\n",
       "      <th>round1</th>\n",
       "      <td>880.40</td>\n",
       "      <td>962.51</td>\n",
       "      <td>62.06</td>\n",
       "      <td>83.0</td>\n",
       "    </tr>\n",
       "    <tr>\n",
       "      <th>round2</th>\n",
       "      <td>879.53</td>\n",
       "      <td>962.51</td>\n",
       "      <td>63.75</td>\n",
       "      <td>83.0</td>\n",
       "    </tr>\n",
       "    <tr>\n",
       "      <th>round3</th>\n",
       "      <td>880.40</td>\n",
       "      <td>962.51</td>\n",
       "      <td>64.54</td>\n",
       "      <td>83.0</td>\n",
       "    </tr>\n",
       "    <tr>\n",
       "      <th>round4</th>\n",
       "      <td>879.56</td>\n",
       "      <td>962.51</td>\n",
       "      <td>63.53</td>\n",
       "      <td>83.0</td>\n",
       "    </tr>\n",
       "  </tbody>\n",
       "</table>\n",
       "</div>"
      ],
      "text/plain": [
       "        mean_power  max_power  mean_temp  max_temp\n",
       "round                                             \n",
       "round0      880.24     962.51      64.33      83.0\n",
       "round1      880.40     962.51      62.06      83.0\n",
       "round2      879.53     962.51      63.75      83.0\n",
       "round3      880.40     962.51      64.54      83.0\n",
       "round4      879.56     962.51      63.53      83.0"
      ]
     },
     "metadata": {},
     "output_type": "display_data"
    }
   ],
   "source": [
    "pattern = os.path.join(BASE_DIR, \"round*\", \"preprocessing\", \"round*.pkl\")\n",
    "rounds  = sorted(glob.glob(pattern))\n",
    "summary = []\n",
    "\n",
    "for pkl_path in rounds:\n",
    "    round_name = os.path.basename(os.path.dirname(os.path.dirname(pkl_path)))\n",
    "    df         = process_round(pkl_path)\n",
    "\n",
    "    pcols = [c for c in df if c.startswith(\"P_core_\")]\n",
    "    tcols = [c for c in df if c.startswith(\"T_core_\")]\n",
    "\n",
    "    summary.append({\n",
    "        \"round\":      round_name,\n",
    "        \"mean_power\": df[pcols].values.mean(),\n",
    "        \"max_power\":  df[pcols].values.max(),\n",
    "        \"mean_temp\":  df[tcols].values.mean(),\n",
    "        \"max_temp\":   df[tcols].values.max(),\n",
    "    })\n",
    "\n",
    "# write out and print summary\n",
    "summary_df = pd.DataFrame(summary).set_index(\"round\").sort_index()\n",
    "display(summary_df.round(2))"
   ]
  },
  {
   "cell_type": "code",
   "execution_count": 5,
   "id": "53f728d6-8947-4170-b79b-1eed3a16cf29",
   "metadata": {},
   "outputs": [
    {
     "data": {
      "image/png": "[encoded data removed]",
      "text/plain": [
       "<Figure size 800x400 with 1 Axes>"
      ]
     },
     "metadata": {},
     "output_type": "display_data"
    }
   ],
   "source": [
    "# quick visual for round0\n",
    "if \"round0\" in summary_df.index:\n",
    "    \n",
    "    df0   = process_round(rounds[0])\n",
    "    avg_p = df0[[c for c in df0 if c.startswith(\"P_core_\")]].mean(axis=1)\n",
    "    avg_t = df0[[c for c in df0 if c.startswith(\"T_core_\")]].mean(axis=1)\n",
    "\n",
    "    plt.figure(figsize=(8,4))\n",
    "    plt.plot(avg_p.index, avg_p, label=\"Avg Power (W)\")\n",
    "    plt.plot(avg_t.index, avg_t, label=\"Avg Temp (°C)\")\n",
    "    plt.xlabel(\"Time\")\n",
    "    plt.ylabel(\"Value\")\n",
    "    plt.title(\"14-Core PRBS Round0\")\n",
    "    plt.legend()\n",
    "    plt.tight_layout()\n",
    "    plt.show()"
   ]
  },
  {
   "cell_type": "code",
   "execution_count": null,
   "id": "6e62c20a-0d36-44af-a5a2-eb668b7585dd",
   "metadata": {},
   "outputs": [],
   "source": []
  }
 ],
 "metadata": {
  "kernelspec": {
   "display_name": "Python 3 (ipykernel)",
   "language": "python",
   "name": "python3"
  },
  "language_info": {
   "codemirror_mode": {
    "name": "ipython",
    "version": 3
   },
   "file_extension": ".py",
   "mimetype": "text/x-python",
   "name": "python",
   "nbconvert_exporter": "python",
   "pygments_lexer": "ipython3",
   "version": "3.10.16"
  }
 },
 "nbformat": 4,
 "nbformat_minor": 5
}
